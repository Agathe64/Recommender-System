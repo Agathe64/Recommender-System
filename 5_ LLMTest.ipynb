{
 "cells": [
  {
   "cell_type": "markdown",
   "id": "f588654c",
   "metadata": {},
   "source": [
    "# Hybrid Recommender"
   ]
  },
  {
   "cell_type": "code",
   "execution_count": 2,
   "id": "094ae01f",
   "metadata": {},
   "outputs": [
    {
     "name": "stdout",
     "output_type": "stream",
     "text": [
      "Requirement already satisfied: sentence-transformers in /opt/anaconda3/envs/reco-proj/lib/python3.10/site-packages (4.1.0)\n",
      "Requirement already satisfied: transformers<5.0.0,>=4.41.0 in /opt/anaconda3/envs/reco-proj/lib/python3.10/site-packages (from sentence-transformers) (4.52.4)\n",
      "Requirement already satisfied: tqdm in /opt/anaconda3/envs/reco-proj/lib/python3.10/site-packages (from sentence-transformers) (4.67.1)\n",
      "Requirement already satisfied: torch>=1.11.0 in /opt/anaconda3/envs/reco-proj/lib/python3.10/site-packages (from sentence-transformers) (2.3.0)\n",
      "Requirement already satisfied: scikit-learn in /opt/anaconda3/envs/reco-proj/lib/python3.10/site-packages (from sentence-transformers) (1.7.0)\n",
      "Requirement already satisfied: scipy in /opt/anaconda3/envs/reco-proj/lib/python3.10/site-packages (from sentence-transformers) (1.15.3)\n",
      "Requirement already satisfied: huggingface-hub>=0.20.0 in /opt/anaconda3/envs/reco-proj/lib/python3.10/site-packages (from sentence-transformers) (0.33.0)\n",
      "Requirement already satisfied: Pillow in /opt/anaconda3/envs/reco-proj/lib/python3.10/site-packages (from sentence-transformers) (11.0.0)\n",
      "Requirement already satisfied: typing_extensions>=4.5.0 in /opt/anaconda3/envs/reco-proj/lib/python3.10/site-packages (from sentence-transformers) (4.12.2)\n",
      "Requirement already satisfied: filelock in /opt/anaconda3/envs/reco-proj/lib/python3.10/site-packages (from transformers<5.0.0,>=4.41.0->sentence-transformers) (3.13.1)\n",
      "Requirement already satisfied: numpy>=1.17 in /opt/anaconda3/envs/reco-proj/lib/python3.10/site-packages (from transformers<5.0.0,>=4.41.0->sentence-transformers) (1.26.4)\n",
      "Requirement already satisfied: packaging>=20.0 in /opt/anaconda3/envs/reco-proj/lib/python3.10/site-packages (from transformers<5.0.0,>=4.41.0->sentence-transformers) (25.0)\n",
      "Requirement already satisfied: pyyaml>=5.1 in /opt/anaconda3/envs/reco-proj/lib/python3.10/site-packages (from transformers<5.0.0,>=4.41.0->sentence-transformers) (6.0.2)\n",
      "Requirement already satisfied: regex!=2019.12.17 in /opt/anaconda3/envs/reco-proj/lib/python3.10/site-packages (from transformers<5.0.0,>=4.41.0->sentence-transformers) (2024.11.6)\n",
      "Requirement already satisfied: requests in /opt/anaconda3/envs/reco-proj/lib/python3.10/site-packages (from transformers<5.0.0,>=4.41.0->sentence-transformers) (2.32.4)\n",
      "Requirement already satisfied: tokenizers<0.22,>=0.21 in /opt/anaconda3/envs/reco-proj/lib/python3.10/site-packages (from transformers<5.0.0,>=4.41.0->sentence-transformers) (0.21.2)\n",
      "Requirement already satisfied: safetensors>=0.4.3 in /opt/anaconda3/envs/reco-proj/lib/python3.10/site-packages (from transformers<5.0.0,>=4.41.0->sentence-transformers) (0.5.3)\n",
      "Requirement already satisfied: fsspec>=2023.5.0 in /opt/anaconda3/envs/reco-proj/lib/python3.10/site-packages (from huggingface-hub>=0.20.0->sentence-transformers) (2024.6.1)\n",
      "Requirement already satisfied: hf-xet<2.0.0,>=1.1.2 in /opt/anaconda3/envs/reco-proj/lib/python3.10/site-packages (from huggingface-hub>=0.20.0->sentence-transformers) (1.1.5)\n",
      "Requirement already satisfied: sympy in /opt/anaconda3/envs/reco-proj/lib/python3.10/site-packages (from torch>=1.11.0->sentence-transformers) (1.13.3)\n",
      "Requirement already satisfied: networkx in /opt/anaconda3/envs/reco-proj/lib/python3.10/site-packages (from torch>=1.11.0->sentence-transformers) (3.3)\n",
      "Requirement already satisfied: jinja2 in /opt/anaconda3/envs/reco-proj/lib/python3.10/site-packages (from torch>=1.11.0->sentence-transformers) (3.1.4)\n",
      "Requirement already satisfied: MarkupSafe>=2.0 in /opt/anaconda3/envs/reco-proj/lib/python3.10/site-packages (from jinja2->torch>=1.11.0->sentence-transformers) (2.1.5)\n",
      "Requirement already satisfied: charset_normalizer<4,>=2 in /opt/anaconda3/envs/reco-proj/lib/python3.10/site-packages (from requests->transformers<5.0.0,>=4.41.0->sentence-transformers) (3.4.2)\n",
      "Requirement already satisfied: idna<4,>=2.5 in /opt/anaconda3/envs/reco-proj/lib/python3.10/site-packages (from requests->transformers<5.0.0,>=4.41.0->sentence-transformers) (3.10)\n",
      "Requirement already satisfied: urllib3<3,>=1.21.1 in /opt/anaconda3/envs/reco-proj/lib/python3.10/site-packages (from requests->transformers<5.0.0,>=4.41.0->sentence-transformers) (2.5.0)\n",
      "Requirement already satisfied: certifi>=2017.4.17 in /opt/anaconda3/envs/reco-proj/lib/python3.10/site-packages (from requests->transformers<5.0.0,>=4.41.0->sentence-transformers) (2025.6.15)\n",
      "Requirement already satisfied: joblib>=1.2.0 in /opt/anaconda3/envs/reco-proj/lib/python3.10/site-packages (from scikit-learn->sentence-transformers) (1.5.1)\n",
      "Requirement already satisfied: threadpoolctl>=3.1.0 in /opt/anaconda3/envs/reco-proj/lib/python3.10/site-packages (from scikit-learn->sentence-transformers) (3.6.0)\n",
      "Requirement already satisfied: mpmath<1.4,>=1.1.0 in /opt/anaconda3/envs/reco-proj/lib/python3.10/site-packages (from sympy->torch>=1.11.0->sentence-transformers) (1.3.0)\n"
     ]
    }
   ],
   "source": [
    "!pip install sentence-transformers"
   ]
  },
  {
   "cell_type": "code",
   "execution_count": 3,
   "id": "c196849f",
   "metadata": {},
   "outputs": [],
   "source": [
    "from sentence_transformers import SentenceTransformer\n",
    "import numpy as np\n",
    "import pandas as pd\n",
    "\n",
    "# Load pre-trained embedding model (light and fast)\n",
    "model = SentenceTransformer('all-MiniLM-L6-v2')\n"
   ]
  },
  {
   "cell_type": "code",
   "execution_count": 6,
   "id": "63e90601",
   "metadata": {},
   "outputs": [],
   "source": [
    "import os \n",
    "# Load the dataset\n",
    "PATH = \"/Users/agathecauhape/EMLyon 2024-25/Canada/Recommender System/projet/data/\"\n",
    "\n",
    "file_path = os.path.join(PATH, \"text_clean.csv\")\n",
    "df = pd.read_csv(file_path)"
   ]
  },
  {
   "cell_type": "code",
   "execution_count": 8,
   "id": "e6ceffa0",
   "metadata": {},
   "outputs": [],
   "source": [
    "\n",
    "# Make sure 'game_title_lower' column exists for matching\n",
    "df['game_title_lower'] = df['game_title'].str.lower()"
   ]
  },
  {
   "cell_type": "code",
   "execution_count": 7,
   "id": "922eb42f",
   "metadata": {},
   "outputs": [],
   "source": [
    "# Handle missing reviews gracefully\n",
    "def get_embedding(text):\n",
    "    if pd.isna(text) or text.strip() == \"\":\n",
    "        return np.zeros(model.get_sentence_embedding_dimension())\n",
    "    return model.encode(text)\n",
    "\n",
    "# Apply to your dataframe\n",
    "df['review_embedding'] = df['user_review_text'].apply(get_embedding)\n"
   ]
  },
  {
   "cell_type": "code",
   "execution_count": 9,
   "id": "09482d05",
   "metadata": {},
   "outputs": [],
   "source": [
    "exclude_cols = ['game_title', 'game_title_lower', 'user_review_text', 'review_embedding']\n",
    "categorical_cols = df.select_dtypes(include=['object', 'category']).columns.difference(exclude_cols)\n",
    "numerical_cols = df.select_dtypes(include=['int64', 'float64']).columns"
   ]
  },
  {
   "cell_type": "code",
   "execution_count": 13,
   "id": "36426408",
   "metadata": {},
   "outputs": [],
   "source": [
    "from sklearn.preprocessing import OneHotEncoder, StandardScaler, normalize\n",
    "# One-hot encode categorical variables\n",
    "ohe = OneHotEncoder(sparse_output=False, handle_unknown='ignore')\n",
    "\n",
    "X_cat = ohe.fit_transform(df[categorical_cols])"
   ]
  },
  {
   "cell_type": "code",
   "execution_count": 14,
   "id": "decbf0c2",
   "metadata": {},
   "outputs": [],
   "source": [
    "# Scale numerical variables\n",
    "scaler = StandardScaler()\n",
    "X_num = scaler.fit_transform(df[numerical_cols])\n",
    "\n",
    "# Combine numeric + categorical features\n",
    "X_structured = np.hstack([X_num, X_cat])\n"
   ]
  },
  {
   "cell_type": "code",
   "execution_count": 15,
   "id": "c08ff90d",
   "metadata": {},
   "outputs": [],
   "source": [
    "# 5. Prepare embedding matrix\n",
    "embeddings_matrix = np.vstack(df['review_embedding'].values)\n",
    "\n",
    "# 6. Normalize features and embeddings\n",
    "scaler_struct = StandardScaler()\n",
    "X_struct_scaled = scaler_struct.fit_transform(X_structured)\n",
    "\n",
    "X_emb_scaled = normalize(embeddings_matrix)\n",
    "\n",
    "# 7. Concatenate structured + embeddings for hybrid representation\n",
    "X_hybrid = np.hstack([X_struct_scaled, X_emb_scaled])"
   ]
  },
  {
   "cell_type": "code",
   "execution_count": 17,
   "id": "537ce36a",
   "metadata": {},
   "outputs": [
    {
     "name": "stdout",
     "output_type": "stream",
     "text": [
      "Computing similarity matrix ...\n"
     ]
    }
   ],
   "source": [
    "from sklearn.metrics.pairwise import cosine_similarity\n",
    "\n",
    "# 8. Compute similarity matrix\n",
    "print(\"Computing similarity matrix ...\")\n",
    "similarity_matrix = cosine_similarity(X_hybrid)"
   ]
  },
  {
   "cell_type": "code",
   "execution_count": 18,
   "id": "97bccc1e",
   "metadata": {},
   "outputs": [],
   "source": [
    "# 9. Recommendation function using hybrid features\n",
    "def recommend_games_hybrid(game_title, top_n=5):\n",
    "    game_title_clean = game_title.strip().lower()\n",
    "    df_reset = df.reset_index(drop=True)\n",
    "\n",
    "    # Partial / fuzzy match on game titles\n",
    "    matches = df_reset[df_reset['game_title_lower'].str.contains(game_title_clean, case=False, na=False)]\n",
    "\n",
    "    if matches.empty:\n",
    "        print(f\"'{game_title}' not found in dataset.\")\n",
    "        return pd.DataFrame()\n",
    "\n",
    "    idx = matches.index[0]\n",
    "    sim_scores = list(enumerate(similarity_matrix[idx]))\n",
    "    sim_scores = sorted(sim_scores, key=lambda x: x[1], reverse=True)\n",
    "\n",
    "    recommended_indices = [i[0] for i in sim_scores[1:top_n+1]]\n",
    "    return df_reset.iloc[recommended_indices][['game_title', 'genre', 'platform']]"
   ]
  },
  {
   "cell_type": "code",
   "execution_count": 19,
   "id": "9a9e9fbb",
   "metadata": {},
   "outputs": [
    {
     "name": "stdout",
     "output_type": "stream",
     "text": [
      "Recommendations for 'The Witcher 3':\n",
      "                             game_title     genre platform\n",
      "19588                Tomb Raider (2013)  Fighting   Mobile\n",
      "19241          The Witcher 3: Wild Hunt  Fighting     Xbox\n",
      "36095                       Overwatch 2  Fighting     Xbox\n",
      "26632  Pillars of Eternity II: Deadfire  Fighting     Xbox\n",
      "33707                         Fall Guys  Fighting     Xbox\n"
     ]
    }
   ],
   "source": [
    "# 10. Example usage\n",
    "print(\"Recommendations for 'The Witcher 3':\")\n",
    "recommendations = recommend_games_hybrid(\"The Witcher 3\", top_n=5)\n",
    "print(recommendations)"
   ]
  }
 ],
 "metadata": {
  "kernelspec": {
   "display_name": "reco-proj",
   "language": "python",
   "name": "python3"
  },
  "language_info": {
   "codemirror_mode": {
    "name": "ipython",
    "version": 3
   },
   "file_extension": ".py",
   "mimetype": "text/x-python",
   "name": "python",
   "nbconvert_exporter": "python",
   "pygments_lexer": "ipython3",
   "version": "3.10.18"
  }
 },
 "nbformat": 4,
 "nbformat_minor": 5
}
