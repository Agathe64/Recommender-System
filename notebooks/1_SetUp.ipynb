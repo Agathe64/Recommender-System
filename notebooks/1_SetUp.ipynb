{
 "cells": [
  {
   "cell_type": "markdown",
   "id": "fb2c0cc5",
   "metadata": {},
   "source": [
    "# Project Recommender System\n",
    "Our project for Group 6 is regarding Video Games rating. The objective would be to predict the rating based on the different qualifications from the game.\n",
    "This notebook is the starting point of this project and is the data cleaning and exploration."
   ]
  },
  {
   "cell_type": "markdown",
   "id": "500e4695",
   "metadata": {},
   "source": [
    "### Outline of the Notebook\n",
    "\n",
    "- Step 1: Setting Up the Environment\n",
    "- Step 2: Data Cleaning\n",
    "    - 2.1 Missing Values and Duplicates\n",
    "    - 2.2 Fix Data Names and Types\n",
    "- Step 3: Data Description\n",
    "- Step 4: Save Data"
   ]
  },
  {
   "cell_type": "markdown",
   "id": "4716a21d",
   "metadata": {},
   "source": [
    "## Step 1: Setting up the Environment"
   ]
  },
  {
   "cell_type": "code",
   "execution_count": null,
   "id": "cee49cf9",
   "metadata": {},
   "outputs": [],
   "source": [
    "# Libraries for data manipulation\n",
    "import pandas as pd\n",
    "import os"
   ]
  },
  {
   "cell_type": "code",
   "execution_count": null,
   "id": "cd8f3cbc",
   "metadata": {},
   "outputs": [
    {
     "name": "stdout",
     "output_type": "stream",
     "text": [
      "           Game Title  User Rating Age Group Targeted  Price Platform  \\\n",
      "0  Grand Theft Auto V         36.4           All Ages  41.41       PC   \n",
      "1          The Sims 4         38.3             Adults  57.56       PC   \n",
      "2           Minecraft         26.8              Teens  44.93       PC   \n",
      "\n",
      "  Requires Special Device   Developer        Publisher  Release Year  \\\n",
      "0                      No  Game Freak       Innersloth          2015   \n",
      "1                      No    Nintendo  Electronic Arts          2015   \n",
      "2                     Yes      Bungie           Capcom          2012   \n",
      "\n",
      "       Genre Multiplayer  Game Length (Hours) Graphics Quality  \\\n",
      "0  Adventure          No                 55.3           Medium   \n",
      "1    Shooter         Yes                 34.6              Low   \n",
      "2  Adventure         Yes                 13.9              Low   \n",
      "\n",
      "  Soundtrack Quality Story Quality  \\\n",
      "0            Average          Poor   \n",
      "1               Poor          Poor   \n",
      "2               Good       Average   \n",
      "\n",
      "                                User Review Text Game Mode  \\\n",
      "0                 Solid game, but too many bugs.   Offline   \n",
      "1                 Solid game, but too many bugs.   Offline   \n",
      "2  Great game, but the graphics could be better.   Offline   \n",
      "\n",
      "   Min Number of Players  \n",
      "0                      1  \n",
      "1                      3  \n",
      "2                      5  \n"
     ]
    }
   ],
   "source": [
    "# Load and display the dataset\n",
    "\n",
    "# Path to the dataset, to be changed according to your local setup\n",
    "PATH = \"/Users/agathecauhape/EMLyon 2024-25/Canada/Recommender System/projet/data/\"\n",
    "\n",
    "file_path = os.path.join(PATH, \"video_game_reviews.csv\")\n",
    "df = pd.read_csv(file_path)\n",
    "print(df.head(3))\n"
   ]
  },
  {
   "cell_type": "code",
   "execution_count": 5,
   "id": "3cb8f138",
   "metadata": {},
   "outputs": [
    {
     "name": "stdout",
     "output_type": "stream",
     "text": [
      "<class 'pandas.core.frame.DataFrame'>\n",
      "RangeIndex: 47774 entries, 0 to 47773\n",
      "Data columns (total 18 columns):\n",
      " #   Column                   Non-Null Count  Dtype  \n",
      "---  ------                   --------------  -----  \n",
      " 0   Game Title               47774 non-null  object \n",
      " 1   User Rating              47774 non-null  float64\n",
      " 2   Age Group Targeted       47774 non-null  object \n",
      " 3   Price                    47774 non-null  float64\n",
      " 4   Platform                 47774 non-null  object \n",
      " 5   Requires Special Device  47774 non-null  object \n",
      " 6   Developer                47774 non-null  object \n",
      " 7   Publisher                47774 non-null  object \n",
      " 8   Release Year             47774 non-null  int64  \n",
      " 9   Genre                    47774 non-null  object \n",
      " 10  Multiplayer              47774 non-null  object \n",
      " 11  Game Length (Hours)      47774 non-null  float64\n",
      " 12  Graphics Quality         47774 non-null  object \n",
      " 13  Soundtrack Quality       47774 non-null  object \n",
      " 14  Story Quality            47774 non-null  object \n",
      " 15  User Review Text         47774 non-null  object \n",
      " 16  Game Mode                47774 non-null  object \n",
      " 17  Min Number of Players    47774 non-null  int64  \n",
      "dtypes: float64(3), int64(2), object(13)\n",
      "memory usage: 6.6+ MB\n"
     ]
    }
   ],
   "source": [
    "df.info()"
   ]
  },
  {
   "cell_type": "markdown",
   "id": "08677fb7",
   "metadata": {},
   "source": [
    "This dataset contains 47774 games rated. It has a total of 18 columns meaning we have many information regarding each games. A lot of them seems to be object so we might have to do a lot of data manipulation and also on column names which are not respecting conventionnal writing. \n",
    "\n",
    "Below is a description of each variables:\n",
    "- Game Title: Title of the game.\n",
    "- User Rating: Rating of this game.\n",
    "- Age Group Target: Age Group that is supposed to be the most attracted to the game.\n",
    "- Price: Price of the game.\n",
    "- Platform: Platform on what the game can be played.\n",
    "- Requires Special Device: If the game requires a special installation.\n",
    "- Developer: Name of the developer.\n",
    "- Publisher: Name of the publisher.\n",
    "- Release Year: Release year of the game.\n",
    "- Genre: Genre of the game.\n",
    "- Multiplayer: If the game is multiplayer or not.\n",
    "- Game Length: How long on average it takes to finish the game. \n",
    "- Graphics Quality: Quality of graphics.\n",
    "- Soundtrack Quality: Quality of soundtracks.\n",
    "- Store Quality: Quality of the store.\n",
    "- User Review Text: Text review of the user, will be used in either sentiment analysis or RAG analysis. \n",
    "- Game Mode: If the game is played online with other players or in standalone.\n",
    "- Min Number of Players: Minimum players required to play.\n"
   ]
  },
  {
   "cell_type": "code",
   "execution_count": 6,
   "id": "3ccfb44d",
   "metadata": {},
   "outputs": [],
   "source": [
    "# Save df into df_copy for further processing and not to modify the original df\n",
    "df_copy = df.copy()"
   ]
  },
  {
   "cell_type": "markdown",
   "id": "f2a50e8e",
   "metadata": {},
   "source": [
    "## Step 2: Data Cleaning"
   ]
  },
  {
   "cell_type": "markdown",
   "id": "089411ce",
   "metadata": {},
   "source": [
    "### 2.1 Missing Values and Duplicates"
   ]
  },
  {
   "cell_type": "markdown",
   "id": "3b5a3654",
   "metadata": {},
   "source": [
    "We need to check the data for missing values and duplicates. If too much appear it can affect the results of modeling anything. "
   ]
  },
  {
   "cell_type": "code",
   "execution_count": 7,
   "id": "bf5c549c",
   "metadata": {},
   "outputs": [
    {
     "data": {
      "text/plain": [
       "Game Title                 0\n",
       "User Rating                0\n",
       "Age Group Targeted         0\n",
       "Price                      0\n",
       "Platform                   0\n",
       "Requires Special Device    0\n",
       "Developer                  0\n",
       "Publisher                  0\n",
       "Release Year               0\n",
       "Genre                      0\n",
       "Multiplayer                0\n",
       "Game Length (Hours)        0\n",
       "Graphics Quality           0\n",
       "Soundtrack Quality         0\n",
       "Story Quality              0\n",
       "User Review Text           0\n",
       "Game Mode                  0\n",
       "Min Number of Players      0\n",
       "dtype: int64"
      ]
     },
     "execution_count": 7,
     "metadata": {},
     "output_type": "execute_result"
    }
   ],
   "source": [
    "df_copy.isna().sum()"
   ]
  },
  {
   "cell_type": "code",
   "execution_count": 8,
   "id": "4fac2eae",
   "metadata": {},
   "outputs": [
    {
     "name": "stdout",
     "output_type": "stream",
     "text": [
      "Number of duplicate rows: 0\n",
      "Percentage of duplicates: 0.00%\n"
     ]
    }
   ],
   "source": [
    "# Count duplicates\n",
    "duplicate_count = df_copy.duplicated().sum()\n",
    "print(f\"Number of duplicate rows: {duplicate_count}\")\n",
    "\n",
    "# Get percentage of duplicates\n",
    "duplicate_percentage = (duplicate_count / len(df_copy)) * 100\n",
    "print(f\"Percentage of duplicates: {duplicate_percentage:.2f}%\")"
   ]
  },
  {
   "cell_type": "markdown",
   "id": "bc9dbe2d",
   "metadata": {},
   "source": [
    "This dataset has no missing values and neither duplicates so no further cleaning is required regarding this. "
   ]
  },
  {
   "cell_type": "markdown",
   "id": "1178fa72",
   "metadata": {},
   "source": [
    "### 2.2 Fix Data Names and Types"
   ]
  },
  {
   "cell_type": "markdown",
   "id": "39f6cafb",
   "metadata": {},
   "source": [
    "The columns names are not respecting the python writing conventions and should be in snakecase for easier manipulation hence we simply change them."
   ]
  },
  {
   "cell_type": "code",
   "execution_count": null,
   "id": "459da8bb",
   "metadata": {},
   "outputs": [],
   "source": [
    "# Change the column names\n",
    "df_copy.columns = [\n",
    "    'game_title',\n",
    "    'user_rating',\n",
    "    'age_group_targeted',\n",
    "    'price',\n",
    "    'platform',\n",
    "    'requires_special_device',\n",
    "    'developer',\n",
    "    'publisher',\n",
    "    'release_year',\n",
    "    'genre',\n",
    "    'multiplayer',\n",
    "    'game_length_hours',\n",
    "    'graphics_quality',\n",
    "    'soundtrack_quality',\n",
    "    'story_quality',\n",
    "    'user_review_text',\n",
    "    'game_mode',\n",
    "    'min_number_of_players'\n",
    "]\n"
   ]
  },
  {
   "cell_type": "code",
   "execution_count": null,
   "id": "9509b9ce",
   "metadata": {},
   "outputs": [
    {
     "name": "stdout",
     "output_type": "stream",
     "text": [
      "<class 'pandas.core.frame.DataFrame'>\n",
      "RangeIndex: 47774 entries, 0 to 47773\n",
      "Data columns (total 18 columns):\n",
      " #   Column                   Non-Null Count  Dtype  \n",
      "---  ------                   --------------  -----  \n",
      " 0   game_title               47774 non-null  object \n",
      " 1   user_rating              47774 non-null  float64\n",
      " 2   age_group_targeted       47774 non-null  object \n",
      " 3   price                    47774 non-null  float64\n",
      " 4   platform                 47774 non-null  object \n",
      " 5   requires_special_device  47774 non-null  object \n",
      " 6   developer                47774 non-null  object \n",
      " 7   publisher                47774 non-null  object \n",
      " 8   release_year             47774 non-null  int64  \n",
      " 9   genre                    47774 non-null  object \n",
      " 10  multiplayer              47774 non-null  object \n",
      " 11  game_length_hours        47774 non-null  float64\n",
      " 12  graphics_quality         47774 non-null  object \n",
      " 13  soundtrack_quality       47774 non-null  object \n",
      " 14  story_quality            47774 non-null  object \n",
      " 15  user_review_text         47774 non-null  object \n",
      " 16  game_mode                47774 non-null  object \n",
      " 17  min_number_of_players    47774 non-null  int64  \n",
      "dtypes: float64(3), int64(2), object(13)\n",
      "memory usage: 6.6+ MB\n"
     ]
    }
   ],
   "source": [
    "# Check the new column names\n",
    "df_copy.info()"
   ]
  },
  {
   "cell_type": "markdown",
   "id": "6359d297",
   "metadata": {},
   "source": [
    "Some columns would be better as string variables rather than object and others as category therefore we convert them for later analysis."
   ]
  },
  {
   "cell_type": "code",
   "execution_count": 11,
   "id": "e5735ccc",
   "metadata": {},
   "outputs": [],
   "source": [
    "# Fix the types of the columns\n",
    "df_copy['game_title'] = df_copy['game_title'].astype('string')\n",
    "df_copy['user_rating'] = df_copy['user_rating'].astype('float')\n",
    "df_copy['age_group_targeted'] = df_copy['age_group_targeted'].astype('category')\n",
    "df_copy['price'] = df_copy['price'].astype('float')\n",
    "df_copy['platform'] = df_copy['platform'].astype('category')\n",
    "df_copy['requires_special_device'] = df_copy['requires_special_device'].astype('string')\n",
    "df_copy['developer'] = df_copy['developer'].astype('string')\n",
    "df_copy['publisher'] = df_copy['publisher'].astype('string')\n",
    "df_copy['release_year'] = df_copy['release_year'].astype('int')\n",
    "df_copy['genre'] = df_copy['genre'].astype('category')\n",
    "df_copy['multiplayer'] = df_copy['multiplayer'].astype('string')\n",
    "df_copy['game_length_hours'] = df_copy['game_length_hours'].astype('float')\n",
    "df_copy['graphics_quality'] = df_copy['graphics_quality'].astype('category')\n",
    "df_copy['soundtrack_quality'] = df_copy['soundtrack_quality'].astype('category')\n",
    "df_copy['story_quality'] = df_copy['story_quality'].astype('category')\n",
    "df_copy['user_review_text'] = df_copy['user_review_text'].astype('string')\n",
    "df_copy['game_mode'] = df_copy['game_mode'].astype('string')\n",
    "df_copy['min_number_of_players'] = df_copy['min_number_of_players'].astype('int')\n"
   ]
  },
  {
   "cell_type": "markdown",
   "id": "151084e7",
   "metadata": {},
   "source": [
    "## Step 3: Data Description"
   ]
  },
  {
   "cell_type": "markdown",
   "id": "14518ca6",
   "metadata": {},
   "source": [
    "Before going into detailed analysis, we want to get an overview of the data to know where to go from there."
   ]
  },
  {
   "cell_type": "code",
   "execution_count": 12,
   "id": "84364209",
   "metadata": {},
   "outputs": [
    {
     "data": {
      "text/html": [
       "<div>\n",
       "<style scoped>\n",
       "    .dataframe tbody tr th:only-of-type {\n",
       "        vertical-align: middle;\n",
       "    }\n",
       "\n",
       "    .dataframe tbody tr th {\n",
       "        vertical-align: top;\n",
       "    }\n",
       "\n",
       "    .dataframe thead th {\n",
       "        text-align: right;\n",
       "    }\n",
       "</style>\n",
       "<table border=\"1\" class=\"dataframe\">\n",
       "  <thead>\n",
       "    <tr style=\"text-align: right;\">\n",
       "      <th></th>\n",
       "      <th>user_rating</th>\n",
       "      <th>price</th>\n",
       "      <th>release_year</th>\n",
       "      <th>game_length_hours</th>\n",
       "      <th>min_number_of_players</th>\n",
       "    </tr>\n",
       "  </thead>\n",
       "  <tbody>\n",
       "    <tr>\n",
       "      <th>count</th>\n",
       "      <td>47774.000000</td>\n",
       "      <td>47774.000000</td>\n",
       "      <td>47774.000000</td>\n",
       "      <td>47774.000000</td>\n",
       "      <td>47774.000000</td>\n",
       "    </tr>\n",
       "    <tr>\n",
       "      <th>mean</th>\n",
       "      <td>29.719329</td>\n",
       "      <td>39.951371</td>\n",
       "      <td>2016.480952</td>\n",
       "      <td>32.481672</td>\n",
       "      <td>5.116758</td>\n",
       "    </tr>\n",
       "    <tr>\n",
       "      <th>std</th>\n",
       "      <td>7.550131</td>\n",
       "      <td>11.520342</td>\n",
       "      <td>4.027276</td>\n",
       "      <td>15.872508</td>\n",
       "      <td>2.769521</td>\n",
       "    </tr>\n",
       "    <tr>\n",
       "      <th>min</th>\n",
       "      <td>10.100000</td>\n",
       "      <td>19.990000</td>\n",
       "      <td>2010.000000</td>\n",
       "      <td>5.000000</td>\n",
       "      <td>1.000000</td>\n",
       "    </tr>\n",
       "    <tr>\n",
       "      <th>25%</th>\n",
       "      <td>24.300000</td>\n",
       "      <td>29.990000</td>\n",
       "      <td>2013.000000</td>\n",
       "      <td>18.800000</td>\n",
       "      <td>3.000000</td>\n",
       "    </tr>\n",
       "    <tr>\n",
       "      <th>50%</th>\n",
       "      <td>29.700000</td>\n",
       "      <td>39.845000</td>\n",
       "      <td>2016.000000</td>\n",
       "      <td>32.500000</td>\n",
       "      <td>5.000000</td>\n",
       "    </tr>\n",
       "    <tr>\n",
       "      <th>75%</th>\n",
       "      <td>35.100000</td>\n",
       "      <td>49.957500</td>\n",
       "      <td>2020.000000</td>\n",
       "      <td>46.300000</td>\n",
       "      <td>7.000000</td>\n",
       "    </tr>\n",
       "    <tr>\n",
       "      <th>max</th>\n",
       "      <td>49.500000</td>\n",
       "      <td>59.990000</td>\n",
       "      <td>2023.000000</td>\n",
       "      <td>60.000000</td>\n",
       "      <td>10.000000</td>\n",
       "    </tr>\n",
       "  </tbody>\n",
       "</table>\n",
       "</div>"
      ],
      "text/plain": [
       "        user_rating         price  release_year  game_length_hours  \\\n",
       "count  47774.000000  47774.000000  47774.000000       47774.000000   \n",
       "mean      29.719329     39.951371   2016.480952          32.481672   \n",
       "std        7.550131     11.520342      4.027276          15.872508   \n",
       "min       10.100000     19.990000   2010.000000           5.000000   \n",
       "25%       24.300000     29.990000   2013.000000          18.800000   \n",
       "50%       29.700000     39.845000   2016.000000          32.500000   \n",
       "75%       35.100000     49.957500   2020.000000          46.300000   \n",
       "max       49.500000     59.990000   2023.000000          60.000000   \n",
       "\n",
       "       min_number_of_players  \n",
       "count           47774.000000  \n",
       "mean                5.116758  \n",
       "std                 2.769521  \n",
       "min                 1.000000  \n",
       "25%                 3.000000  \n",
       "50%                 5.000000  \n",
       "75%                 7.000000  \n",
       "max                10.000000  "
      ]
     },
     "execution_count": 12,
     "metadata": {},
     "output_type": "execute_result"
    }
   ],
   "source": [
    "df_copy.describe()"
   ]
  },
  {
   "cell_type": "code",
   "execution_count": 13,
   "id": "58dc84bb",
   "metadata": {},
   "outputs": [
    {
     "name": "stdout",
     "output_type": "stream",
     "text": [
      " Unique value counts per column:\n",
      "\n",
      "game_title: 40 unique values\n",
      "user_rating: 392 unique values\n",
      "age_group_targeted: 4 unique values\n",
      "price: 4001 unique values\n",
      "platform: 5 unique values\n",
      "requires_special_device: 2 unique values\n",
      "developer: 10 unique values\n",
      "publisher: 9 unique values\n",
      "release_year: 14 unique values\n",
      "genre: 10 unique values\n",
      "multiplayer: 2 unique values\n",
      "game_length_hours: 551 unique values\n",
      "graphics_quality: 4 unique values\n",
      "soundtrack_quality: 4 unique values\n",
      "story_quality: 4 unique values\n",
      "user_review_text: 12 unique values\n",
      "game_mode: 2 unique values\n",
      "min_number_of_players: 9 unique values\n"
     ]
    }
   ],
   "source": [
    "# Display the count of unique values for each colmn\n",
    "print(\" Unique value counts per column:\\n\")\n",
    "for col in df_copy.columns:\n",
    "    print(f\"{col}: {df_copy[col].nunique()} unique values\")"
   ]
  },
  {
   "cell_type": "markdown",
   "id": "046ef308",
   "metadata": {},
   "source": [
    "## Step 4: Save Data\n",
    "We save the dataset df_copy into a CSV file to be able to reuse it in the future of the project this way. "
   ]
  },
  {
   "cell_type": "code",
   "execution_count": 14,
   "id": "0e009340",
   "metadata": {},
   "outputs": [
    {
     "data": {
      "text/html": [
       "<div>\n",
       "<style scoped>\n",
       "    .dataframe tbody tr th:only-of-type {\n",
       "        vertical-align: middle;\n",
       "    }\n",
       "\n",
       "    .dataframe tbody tr th {\n",
       "        vertical-align: top;\n",
       "    }\n",
       "\n",
       "    .dataframe thead th {\n",
       "        text-align: right;\n",
       "    }\n",
       "</style>\n",
       "<table border=\"1\" class=\"dataframe\">\n",
       "  <thead>\n",
       "    <tr style=\"text-align: right;\">\n",
       "      <th></th>\n",
       "      <th>game_title</th>\n",
       "      <th>user_rating</th>\n",
       "      <th>age_group_targeted</th>\n",
       "      <th>price</th>\n",
       "      <th>platform</th>\n",
       "      <th>requires_special_device</th>\n",
       "      <th>developer</th>\n",
       "      <th>publisher</th>\n",
       "      <th>release_year</th>\n",
       "      <th>genre</th>\n",
       "      <th>multiplayer</th>\n",
       "      <th>game_length_hours</th>\n",
       "      <th>graphics_quality</th>\n",
       "      <th>soundtrack_quality</th>\n",
       "      <th>story_quality</th>\n",
       "      <th>user_review_text</th>\n",
       "      <th>game_mode</th>\n",
       "      <th>min_number_of_players</th>\n",
       "    </tr>\n",
       "  </thead>\n",
       "  <tbody>\n",
       "    <tr>\n",
       "      <th>0</th>\n",
       "      <td>Grand Theft Auto V</td>\n",
       "      <td>36.4</td>\n",
       "      <td>All Ages</td>\n",
       "      <td>41.41</td>\n",
       "      <td>PC</td>\n",
       "      <td>No</td>\n",
       "      <td>Game Freak</td>\n",
       "      <td>Innersloth</td>\n",
       "      <td>2015</td>\n",
       "      <td>Adventure</td>\n",
       "      <td>No</td>\n",
       "      <td>55.3</td>\n",
       "      <td>Medium</td>\n",
       "      <td>Average</td>\n",
       "      <td>Poor</td>\n",
       "      <td>Solid game, but too many bugs.</td>\n",
       "      <td>Offline</td>\n",
       "      <td>1</td>\n",
       "    </tr>\n",
       "    <tr>\n",
       "      <th>1</th>\n",
       "      <td>The Sims 4</td>\n",
       "      <td>38.3</td>\n",
       "      <td>Adults</td>\n",
       "      <td>57.56</td>\n",
       "      <td>PC</td>\n",
       "      <td>No</td>\n",
       "      <td>Nintendo</td>\n",
       "      <td>Electronic Arts</td>\n",
       "      <td>2015</td>\n",
       "      <td>Shooter</td>\n",
       "      <td>Yes</td>\n",
       "      <td>34.6</td>\n",
       "      <td>Low</td>\n",
       "      <td>Poor</td>\n",
       "      <td>Poor</td>\n",
       "      <td>Solid game, but too many bugs.</td>\n",
       "      <td>Offline</td>\n",
       "      <td>3</td>\n",
       "    </tr>\n",
       "    <tr>\n",
       "      <th>2</th>\n",
       "      <td>Minecraft</td>\n",
       "      <td>26.8</td>\n",
       "      <td>Teens</td>\n",
       "      <td>44.93</td>\n",
       "      <td>PC</td>\n",
       "      <td>Yes</td>\n",
       "      <td>Bungie</td>\n",
       "      <td>Capcom</td>\n",
       "      <td>2012</td>\n",
       "      <td>Adventure</td>\n",
       "      <td>Yes</td>\n",
       "      <td>13.9</td>\n",
       "      <td>Low</td>\n",
       "      <td>Good</td>\n",
       "      <td>Average</td>\n",
       "      <td>Great game, but the graphics could be better.</td>\n",
       "      <td>Offline</td>\n",
       "      <td>5</td>\n",
       "    </tr>\n",
       "  </tbody>\n",
       "</table>\n",
       "</div>"
      ],
      "text/plain": [
       "           game_title  user_rating age_group_targeted  price platform  \\\n",
       "0  Grand Theft Auto V         36.4           All Ages  41.41       PC   \n",
       "1          The Sims 4         38.3             Adults  57.56       PC   \n",
       "2           Minecraft         26.8              Teens  44.93       PC   \n",
       "\n",
       "  requires_special_device   developer        publisher  release_year  \\\n",
       "0                      No  Game Freak       Innersloth          2015   \n",
       "1                      No    Nintendo  Electronic Arts          2015   \n",
       "2                     Yes      Bungie           Capcom          2012   \n",
       "\n",
       "       genre multiplayer  game_length_hours graphics_quality  \\\n",
       "0  Adventure          No               55.3           Medium   \n",
       "1    Shooter         Yes               34.6              Low   \n",
       "2  Adventure         Yes               13.9              Low   \n",
       "\n",
       "  soundtrack_quality story_quality  \\\n",
       "0            Average          Poor   \n",
       "1               Poor          Poor   \n",
       "2               Good       Average   \n",
       "\n",
       "                                user_review_text game_mode  \\\n",
       "0                 Solid game, but too many bugs.   Offline   \n",
       "1                 Solid game, but too many bugs.   Offline   \n",
       "2  Great game, but the graphics could be better.   Offline   \n",
       "\n",
       "   min_number_of_players  \n",
       "0                      1  \n",
       "1                      3  \n",
       "2                      5  "
      ]
     },
     "execution_count": 14,
     "metadata": {},
     "output_type": "execute_result"
    }
   ],
   "source": [
    "# Verify the changes made to the DataFrame before saving\n",
    "df_copy.head(3)"
   ]
  },
  {
   "cell_type": "code",
   "execution_count": 15,
   "id": "3e0aa063",
   "metadata": {},
   "outputs": [],
   "source": [
    "# Save\n",
    "df_copy.to_csv(os.path.join(PATH, \"video_game_clean.csv\"), index=False)"
   ]
  }
 ],
 "metadata": {
  "kernelspec": {
   "display_name": "reco-proj",
   "language": "python",
   "name": "python3"
  },
  "language_info": {
   "codemirror_mode": {
    "name": "ipython",
    "version": 3
   },
   "file_extension": ".py",
   "mimetype": "text/x-python",
   "name": "python",
   "nbconvert_exporter": "python",
   "pygments_lexer": "ipython3",
   "version": "3.10.18"
  }
 },
 "nbformat": 4,
 "nbformat_minor": 5
}
