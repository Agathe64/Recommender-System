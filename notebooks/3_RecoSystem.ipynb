{
 "cells": [
  {
   "cell_type": "markdown",
   "id": "a91bd90f",
   "metadata": {},
   "source": [
    "# Content Based filtering Recommender System\n",
    "\n",
    "After exploring and understanding our dataset through EDA, we move on to building our first recommendation model using content-based filtering.\n",
    "\n",
    "The idea behind content-based filtering is simple: we recommend games that are similar to the ones a user already liked, based on their characteristics. So instead of looking at what other users like (which collaborative filtering), we focus only on the features of the games themselves.\n",
    "In our dataset, we have lots of information about each game. These are the features we will use to describe each game and figure out which games are most alike."
   ]
  },
  {
   "cell_type": "markdown",
   "id": "89038074",
   "metadata": {},
   "source": [
    "### Outline of the Notebook\n",
    "\n",
    "- Step 1: Data Preparation\n",
    "- Step 2: Recommender System Function\n",
    "- Step 3: Evaluation\n",
    "    - 3.1 Precise Evaluation\n",
    "    - 3.2 Global Evaluation\n",
    "- Step 4: Final Output\n",
    "- Conclusion"
   ]
  },
  {
   "cell_type": "code",
   "execution_count": null,
   "id": "2b79151e",
   "metadata": {},
   "outputs": [],
   "source": [
    "# Import necessary libraries\n",
    "import pandas as pd\n",
    "import numpy as np\n",
    "import os\n",
    "from sklearn.preprocessing import StandardScaler, OneHotEncoder\n",
    "from sklearn.compose import ColumnTransformer\n",
    "from sklearn.metrics.pairwise import cosine_similarity\n",
    "from sklearn.linear_model import LogisticRegression\n",
    "from sklearn import test_train_split"
   ]
  },
  {
   "cell_type": "code",
   "execution_count": 8,
   "id": "e5e198c3",
   "metadata": {},
   "outputs": [],
   "source": [
    "# Load the dataset\n",
    "\n",
    "# Path to the dataset, to be changed according to your local setup\n",
    "PATH = \"/Users/agathecauhape/EMLyon 2024-25/Canada/Recommender System/projet/data/\"\n",
    "\n",
    "file_path = os.path.join(PATH, \"video_game_clean.csv\")\n",
    "df = pd.read_csv(file_path)"
   ]
  },
  {
   "cell_type": "markdown",
   "id": "8f95431b",
   "metadata": {},
   "source": [
    "## Step 1: Data Preparation"
   ]
  },
  {
   "cell_type": "markdown",
   "id": "391a76af",
   "metadata": {},
   "source": [
    "In order to create the recommender system, we consider that working with an ID for the game would be easier than the title. Therefor we create a new mapping. "
   ]
  },
  {
   "cell_type": "code",
   "execution_count": 9,
   "id": "a75bc136",
   "metadata": {},
   "outputs": [],
   "source": [
    "# Clean game titles and create lowercase column for matching\n",
    "df['game_title'] = df['game_title'].str.strip()\n",
    "df['game_title_lower'] = df['game_title'].str.lower()"
   ]
  },
  {
   "cell_type": "code",
   "execution_count": 10,
   "id": "4b586559",
   "metadata": {},
   "outputs": [],
   "source": [
    "# Create a game ID from the title\n",
    "df['game_id'] = pd.factorize(df['game_title'])[0]\n",
    "df.set_index('game_id', inplace=True)"
   ]
  },
  {
   "cell_type": "code",
   "execution_count": 11,
   "id": "adac24cc",
   "metadata": {},
   "outputs": [],
   "source": [
    "# Select relevant features\n",
    "categorical = [\n",
    "    'genre', 'platform', 'game_mode', 'age_group_targeted', 'multiplayer',\n",
    "               'graphics_quality', 'soundtrack_quality','story_quality'\n",
    "               ]\n",
    "numerical = [\n",
    "    'user_rating', 'price', 'game_length_hours'\n",
    "    ]"
   ]
  },
  {
   "cell_type": "code",
   "execution_count": 12,
   "id": "6dbb75fc",
   "metadata": {},
   "outputs": [],
   "source": [
    "# Preprocessing pipeline\n",
    "cat_transformer = OneHotEncoder(handle_unknown='ignore')\n",
    "num_transformer = StandardScaler()\n",
    "\n",
    "preprocessor = ColumnTransformer(\n",
    "    transformers=[\n",
    "        ('cat', cat_transformer, categorical),\n",
    "        ('num', num_transformer, numerical)\n",
    "    ])\n",
    "\n",
    "game_features = preprocessor.fit_transform(df).toarray()"
   ]
  },
  {
   "cell_type": "code",
   "execution_count": 13,
   "id": "da771edd",
   "metadata": {},
   "outputs": [],
   "source": [
    "# Feature weighting\n",
    "cat_weight = 2.0\n",
    "num_weight = 1.0\n",
    "cat_features_len = preprocessor.transformers_[0][1].get_feature_names_out().shape[0]\n",
    "game_features[:, :cat_features_len] *= cat_weight\n",
    "game_features[:, cat_features_len:] *= num_weight"
   ]
  },
  {
   "cell_type": "code",
   "execution_count": 14,
   "id": "61b79d05",
   "metadata": {},
   "outputs": [],
   "source": [
    "# Compute cosine similarity between games\n",
    "similarity_matrix = cosine_similarity(game_features)"
   ]
  },
  {
   "cell_type": "markdown",
   "id": "7924eb96",
   "metadata": {},
   "source": [
    "## Step 2: Recommender System Function"
   ]
  },
  {
   "cell_type": "code",
   "execution_count": 15,
   "id": "cfd63a30",
   "metadata": {},
   "outputs": [],
   "source": [
    "def recommend_games(game_title, top_n=5):\n",
    "    game_title_clean = game_title.strip().lower()\n",
    "    print(\"Titre recherché :\", repr(game_title_clean))\n",
    "\n",
    "    # On travaille sur une version réindexée du DataFrame\n",
    "    df_reset = df.reset_index(drop=True)\n",
    "\n",
    "    # Recherche des jeux contenant le titre\n",
    "    matches = df_reset[df_reset['game_title_lower'].str.contains(game_title_clean, case=False, na=False)]\n",
    "\n",
    "    if matches.empty:\n",
    "        print(f\"'{game_title}' not found in dataset.\")\n",
    "        return pd.DataFrame()\n",
    "\n",
    "    # On prend le premier match (position dans df_reset)\n",
    "    idx = matches.index[0]\n",
    "\n",
    "    # On récupère les scores de similarité\n",
    "    sim_scores = list(enumerate(similarity_matrix[idx]))\n",
    "    sim_scores = sorted(sim_scores, key=lambda x: x[1], reverse=True)\n",
    "\n",
    "    # Les indices recommandés (en position, car df_reset est indexé 0..N)\n",
    "    recommended_indices = [i[0] for i in sim_scores[1:top_n+1]]\n",
    "\n",
    "    # Retour des lignes correspondantes\n",
    "    return df_reset.iloc[recommended_indices][['game_title', 'genre', 'platform']]\n",
    "\n"
   ]
  },
  {
   "cell_type": "code",
   "execution_count": 16,
   "id": "d1253fa2",
   "metadata": {},
   "outputs": [
    {
     "name": "stdout",
     "output_type": "stream",
     "text": [
      "Recommendations for 'The Witcher 3':\n",
      "Titre recherché : 'the witcher 3'\n",
      "                             game_title      genre platform\n",
      "41711                         Fall Guys   Fighting     Xbox\n",
      "44070    Call of Duty: Modern Warfare 2   Fighting     Xbox\n",
      "20013  Pillars of Eternity II: Deadfire   Fighting     Xbox\n",
      "23852          Pokémon Scarlet & Violet  Adventure     Xbox\n",
      "4936                  League of Legends     Puzzle     Xbox\n"
     ]
    }
   ],
   "source": [
    "# Example recommendation\n",
    "print(\"Recommendations for 'The Witcher 3':\")\n",
    "print(recommend_games('The Witcher 3'))"
   ]
  },
  {
   "cell_type": "markdown",
   "id": "b7007a82",
   "metadata": {},
   "source": [
    "## Step 3: Evaluation"
   ]
  },
  {
   "cell_type": "markdown",
   "id": "1788ce93",
   "metadata": {},
   "source": [
    "### 3.1 Precise Evaluation"
   ]
  },
  {
   "cell_type": "code",
   "execution_count": 17,
   "id": "0097fbf7",
   "metadata": {},
   "outputs": [],
   "source": [
    "def evaluate_recommendation_precision(game_title, top_k=5):\n",
    "    # Get original genre of the game\n",
    "    game_title_clean = game_title.strip().lower()\n",
    "    df_reset = df.reset_index(drop=True)\n",
    "    matches = df_reset[df_reset['game_title_lower'].str.contains(game_title_clean, case=False, na=False)]\n",
    "\n",
    "    if matches.empty:\n",
    "        print(f\"'{game_title}' not found in dataset.\")\n",
    "        return None\n",
    "\n",
    "    input_genre = matches.iloc[0]['genre']\n",
    "    print(f\"Genre of '{game_title}': {input_genre}\")\n",
    "\n",
    "    # Get recommendations\n",
    "    recommendations = recommend_games(game_title, top_n=top_k)\n",
    "\n",
    "    if recommendations.empty:\n",
    "        print(\"No recommendations found.\")\n",
    "        return None\n",
    "\n",
    "    # Compute precision@k (genre match)\n",
    "    same_genre_count = (recommendations['genre'] == input_genre).sum()\n",
    "    precision_at_k = same_genre_count / top_k\n",
    "\n",
    "    print(f\"Precision@{top_k}: {precision_at_k:.2f}\")\n",
    "    return precision_at_k\n"
   ]
  },
  {
   "cell_type": "code",
   "execution_count": 18,
   "id": "51338d2f",
   "metadata": {},
   "outputs": [
    {
     "name": "stdout",
     "output_type": "stream",
     "text": [
      "Genre of 'Witcher': Fighting\n",
      "Titre recherché : 'witcher'\n",
      "Precision@5: 0.60\n"
     ]
    },
    {
     "data": {
      "text/plain": [
       "0.6"
      ]
     },
     "execution_count": 18,
     "metadata": {},
     "output_type": "execute_result"
    }
   ],
   "source": [
    "evaluate_recommendation_precision(\"Witcher\")"
   ]
  },
  {
   "cell_type": "markdown",
   "id": "762b13f0",
   "metadata": {},
   "source": [
    "### 3.2 Global Evaluation"
   ]
  },
  {
   "cell_type": "code",
   "execution_count": 19,
   "id": "5f8183f7",
   "metadata": {},
   "outputs": [],
   "source": [
    "def global_precision_evaluation(k=5, n_samples=20):\n",
    "    df_reset = df.reset_index(drop=True)\n",
    "\n",
    "    # Sample N distinct games\n",
    "    sampled_games = df_reset['game_title'].sample(n=n_samples, random_state=42).values\n",
    "\n",
    "    precisions = []\n",
    "\n",
    "    for title in sampled_games:\n",
    "        try:\n",
    "            p = evaluate_recommendation_precision(title, top_k=k)\n",
    "            if p is not None:\n",
    "                precisions.append(p)\n",
    "        except:\n",
    "            continue\n",
    "\n",
    "    if len(precisions) == 0:\n",
    "        print(\"No valid evaluations.\")\n",
    "        return\n",
    "\n",
    "    mean_precision = np.mean(precisions)\n",
    "    std_precision = np.std(precisions)\n",
    "\n",
    "    print(f\"\\n Global Evaluation on {len(precisions)} samples:\")\n",
    "    print(f\"→ Mean Precision@{k}: {mean_precision:.2f}\")\n",
    "    print(f\"→ Std Precision@{k}: {std_precision:.2f}\")\n"
   ]
  },
  {
   "cell_type": "code",
   "execution_count": 20,
   "id": "98ac4308",
   "metadata": {},
   "outputs": [
    {
     "name": "stdout",
     "output_type": "stream",
     "text": [
      "Genre of 'The Sims 4': Shooter\n",
      "Titre recherché : 'the sims 4'\n",
      "Precision@5: 0.80\n",
      "Genre of 'Bioshock Infinite': Sports\n",
      "Titre recherché : 'bioshock infinite'\n",
      "Precision@5: 0.80\n",
      "Genre of 'Kingdom Hearts III': Shooter\n",
      "Titre recherché : 'kingdom hearts iii'\n",
      "Precision@5: 0.80\n",
      "Genre of 'Animal Crossing: New Horizons': Adventure\n",
      "Titre recherché : 'animal crossing: new horizons'\n",
      "Precision@5: 0.60\n",
      "Genre of 'Half-Life: Alyx': RPG\n",
      "Titre recherché : 'half-life: alyx'\n",
      "Precision@5: 0.80\n",
      "Genre of 'Cuphead': Shooter\n",
      "Titre recherché : 'cuphead'\n",
      "Precision@5: 0.60\n",
      "Genre of 'Rocket League': Party\n",
      "Titre recherché : 'rocket league'\n",
      "Precision@5: 0.80\n",
      "Genre of 'FIFA 24': Sports\n",
      "Titre recherché : 'fifa 24'\n",
      "Precision@5: 0.80\n",
      "Genre of 'The Legend of Zelda: Breath of the Wild': Adventure\n",
      "Titre recherché : 'the legend of zelda: breath of the wild'\n",
      "Precision@5: 1.00\n",
      "Genre of 'Grand Theft Auto V': Adventure\n",
      "Titre recherché : 'grand theft auto v'\n",
      "Precision@5: 0.80\n",
      "Genre of 'Street Fighter V': Fighting\n",
      "Titre recherché : 'street fighter v'\n",
      "Precision@5: 1.00\n",
      "Genre of 'Among Us': RPG\n",
      "Titre recherché : 'among us'\n",
      "Precision@5: 0.80\n",
      "Genre of 'Stardew Valley': Shooter\n",
      "Titre recherché : 'stardew valley'\n",
      "Precision@5: 0.80\n",
      "Genre of 'Just Dance 2024': Strategy\n",
      "Titre recherché : 'just dance 2024'\n",
      "Precision@5: 0.60\n",
      "Genre of 'Street Fighter V': Fighting\n",
      "Titre recherché : 'street fighter v'\n",
      "Precision@5: 1.00\n",
      "Genre of 'Fall Guys': Strategy\n",
      "Titre recherché : 'fall guys'\n",
      "Precision@5: 0.80\n",
      "Genre of 'Kingdom Hearts III': Shooter\n",
      "Titre recherché : 'kingdom hearts iii'\n",
      "Precision@5: 0.80\n",
      "Genre of 'Ghost of Tsushima': RPG\n",
      "Titre recherché : 'ghost of tsushima'\n",
      "Precision@5: 0.80\n",
      "Genre of 'Fortnite': Party\n",
      "Titre recherché : 'fortnite'\n",
      "Precision@5: 0.60\n",
      "Genre of 'The Legend of Zelda: Breath of the Wild': Adventure\n",
      "Titre recherché : 'the legend of zelda: breath of the wild'\n",
      "Precision@5: 1.00\n",
      "\n",
      " Global Evaluation on 20 samples:\n",
      "→ Mean Precision@5: 0.80\n",
      "→ Std Precision@5: 0.13\n"
     ]
    }
   ],
   "source": [
    "global_precision_evaluation(k=5, n_samples=20)"
   ]
  },
  {
   "cell_type": "markdown",
   "id": "b45ae1f0",
   "metadata": {},
   "source": [
    "## Step 4: Final Output to Consider"
   ]
  },
  {
   "cell_type": "code",
   "execution_count": 21,
   "id": "fd427886",
   "metadata": {},
   "outputs": [],
   "source": [
    "def run_recommender_pipeline(query_title, top_k=5):\n",
    "    print(f\"🔎 Searching for: '{query_title}'\")\n",
    "    print(\"-\" * 40)\n",
    "    \n",
    "    print(\"🎮 Recommendations:\")\n",
    "    recommendations = recommend_games(query_title, top_n=top_k)\n",
    "    if not recommendations.empty:\n",
    "        display(recommendations)\n",
    "    else:\n",
    "        print(\"No recommendations returned.\")\n",
    "    \n",
    "    print(\"\\n📏 Evaluation:\")\n",
    "    evaluate_recommendation_precision(query_title, top_k=top_k)\n"
   ]
  },
  {
   "cell_type": "code",
   "execution_count": 22,
   "id": "86132293",
   "metadata": {},
   "outputs": [
    {
     "name": "stdout",
     "output_type": "stream",
     "text": [
      "🔎 Searching for: 'Witcher'\n",
      "----------------------------------------\n",
      "🎮 Recommendations:\n",
      "Titre recherché : 'witcher'\n"
     ]
    },
    {
     "data": {
      "text/html": [
       "<div>\n",
       "<style scoped>\n",
       "    .dataframe tbody tr th:only-of-type {\n",
       "        vertical-align: middle;\n",
       "    }\n",
       "\n",
       "    .dataframe tbody tr th {\n",
       "        vertical-align: top;\n",
       "    }\n",
       "\n",
       "    .dataframe thead th {\n",
       "        text-align: right;\n",
       "    }\n",
       "</style>\n",
       "<table border=\"1\" class=\"dataframe\">\n",
       "  <thead>\n",
       "    <tr style=\"text-align: right;\">\n",
       "      <th></th>\n",
       "      <th>game_title</th>\n",
       "      <th>genre</th>\n",
       "      <th>platform</th>\n",
       "    </tr>\n",
       "  </thead>\n",
       "  <tbody>\n",
       "    <tr>\n",
       "      <th>41711</th>\n",
       "      <td>Fall Guys</td>\n",
       "      <td>Fighting</td>\n",
       "      <td>Xbox</td>\n",
       "    </tr>\n",
       "    <tr>\n",
       "      <th>44070</th>\n",
       "      <td>Call of Duty: Modern Warfare 2</td>\n",
       "      <td>Fighting</td>\n",
       "      <td>Xbox</td>\n",
       "    </tr>\n",
       "    <tr>\n",
       "      <th>20013</th>\n",
       "      <td>Pillars of Eternity II: Deadfire</td>\n",
       "      <td>Fighting</td>\n",
       "      <td>Xbox</td>\n",
       "    </tr>\n",
       "    <tr>\n",
       "      <th>23852</th>\n",
       "      <td>Pokémon Scarlet &amp; Violet</td>\n",
       "      <td>Adventure</td>\n",
       "      <td>Xbox</td>\n",
       "    </tr>\n",
       "    <tr>\n",
       "      <th>4936</th>\n",
       "      <td>League of Legends</td>\n",
       "      <td>Puzzle</td>\n",
       "      <td>Xbox</td>\n",
       "    </tr>\n",
       "  </tbody>\n",
       "</table>\n",
       "</div>"
      ],
      "text/plain": [
       "                             game_title      genre platform\n",
       "41711                         Fall Guys   Fighting     Xbox\n",
       "44070    Call of Duty: Modern Warfare 2   Fighting     Xbox\n",
       "20013  Pillars of Eternity II: Deadfire   Fighting     Xbox\n",
       "23852          Pokémon Scarlet & Violet  Adventure     Xbox\n",
       "4936                  League of Legends     Puzzle     Xbox"
      ]
     },
     "metadata": {},
     "output_type": "display_data"
    },
    {
     "name": "stdout",
     "output_type": "stream",
     "text": [
      "\n",
      "📏 Evaluation:\n",
      "Genre of 'Witcher': Fighting\n",
      "Titre recherché : 'witcher'\n",
      "Precision@5: 0.60\n"
     ]
    }
   ],
   "source": [
    "run_recommender_pipeline(\"Witcher\", top_k=5)\n"
   ]
  }
 ],
 "metadata": {
  "kernelspec": {
   "display_name": "reco-proj",
   "language": "python",
   "name": "python3"
  },
  "language_info": {
   "codemirror_mode": {
    "name": "ipython",
    "version": 3
   },
   "file_extension": ".py",
   "mimetype": "text/x-python",
   "name": "python",
   "nbconvert_exporter": "python",
   "pygments_lexer": "ipython3",
   "version": "3.10.18"
  }
 },
 "nbformat": 4,
 "nbformat_minor": 5
}
