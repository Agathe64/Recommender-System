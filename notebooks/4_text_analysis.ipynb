{
 "cells": [
  {
   "cell_type": "markdown",
   "id": "97b244f5",
   "metadata": {},
   "source": [
    "# NLP Analysis"
   ]
  },
  {
   "cell_type": "code",
   "execution_count": 1,
   "id": "42cc6ab8",
   "metadata": {},
   "outputs": [
    {
     "name": "stdout",
     "output_type": "stream",
     "text": [
      "Requirement already satisfied: nltk in /opt/anaconda3/envs/reco-proj/lib/python3.10/site-packages (3.9.1)\n",
      "Requirement already satisfied: click in /opt/anaconda3/envs/reco-proj/lib/python3.10/site-packages (from nltk) (8.2.1)\n",
      "Requirement already satisfied: joblib in /opt/anaconda3/envs/reco-proj/lib/python3.10/site-packages (from nltk) (1.5.1)\n",
      "Requirement already satisfied: regex>=2021.8.3 in /opt/anaconda3/envs/reco-proj/lib/python3.10/site-packages (from nltk) (2024.11.6)\n",
      "Requirement already satisfied: tqdm in /opt/anaconda3/envs/reco-proj/lib/python3.10/site-packages (from nltk) (4.67.1)\n"
     ]
    }
   ],
   "source": [
    "!pip install nltk"
   ]
  },
  {
   "cell_type": "code",
   "execution_count": 2,
   "id": "a7dded3c",
   "metadata": {},
   "outputs": [],
   "source": [
    "import pandas as pd\n",
    "import numpy as np\n",
    "import nltk\n",
    "import re\n",
    "import string\n",
    "import os\n",
    "from sklearn.feature_extraction.text import TfidfVectorizer"
   ]
  },
  {
   "cell_type": "code",
   "execution_count": 3,
   "id": "22ca2782",
   "metadata": {},
   "outputs": [],
   "source": [
    "# Load the dataset\n",
    "PATH = \"/Users/agathecauhape/EMLyon 2024-25/Canada/Recommender System/projet/data/\"\n",
    "\n",
    "file_path = os.path.join(PATH, \"video_game_clean.csv\")\n",
    "df = pd.read_csv(file_path)"
   ]
  },
  {
   "cell_type": "markdown",
   "id": "080d5313",
   "metadata": {},
   "source": [
    "## Step 1: Cleaning Text"
   ]
  },
  {
   "cell_type": "code",
   "execution_count": 4,
   "id": "5f292eaf",
   "metadata": {},
   "outputs": [
    {
     "name": "stderr",
     "output_type": "stream",
     "text": [
      "[nltk_data] Downloading package stopwords to\n",
      "[nltk_data]     /Users/agathecauhape/nltk_data...\n",
      "[nltk_data]   Package stopwords is already up-to-date!\n"
     ]
    }
   ],
   "source": [
    "# Download stopwords if needed\n",
    "nltk.download('stopwords')\n",
    "from nltk.corpus import stopwords\n",
    "\n",
    "stop_words = set(stopwords.words('english'))"
   ]
  },
  {
   "cell_type": "code",
   "execution_count": 5,
   "id": "b5ad8254",
   "metadata": {},
   "outputs": [],
   "source": [
    "def clean_text(text):\n",
    "    if pd.isna(text):\n",
    "        return \"\"\n",
    "    text = text.lower()\n",
    "    text = re.sub(r\"<.*?>\", \"\", text)\n",
    "    text = re.sub(r\"http\\S+\", \"\", text)\n",
    "    text = re.sub(f\"[{re.escape(string.punctuation)}]\", \"\", text)\n",
    "    words = text.split()\n",
    "    return \" \".join([w for w in words if w not in stop_words])"
   ]
  },
  {
   "cell_type": "code",
   "execution_count": 6,
   "id": "9cf0e0c9",
   "metadata": {},
   "outputs": [],
   "source": [
    "df['review_cleaned'] = df['user_review_text'].apply(clean_text)"
   ]
  },
  {
   "cell_type": "code",
   "execution_count": 7,
   "id": "7e47bacb",
   "metadata": {},
   "outputs": [
    {
     "data": {
      "text/html": [
       "<div>\n",
       "<style scoped>\n",
       "    .dataframe tbody tr th:only-of-type {\n",
       "        vertical-align: middle;\n",
       "    }\n",
       "\n",
       "    .dataframe tbody tr th {\n",
       "        vertical-align: top;\n",
       "    }\n",
       "\n",
       "    .dataframe thead th {\n",
       "        text-align: right;\n",
       "    }\n",
       "</style>\n",
       "<table border=\"1\" class=\"dataframe\">\n",
       "  <thead>\n",
       "    <tr style=\"text-align: right;\">\n",
       "      <th></th>\n",
       "      <th>user_review_text</th>\n",
       "      <th>review_cleaned</th>\n",
       "    </tr>\n",
       "  </thead>\n",
       "  <tbody>\n",
       "    <tr>\n",
       "      <th>0</th>\n",
       "      <td>Solid game, but too many bugs.</td>\n",
       "      <td>solid game many bugs</td>\n",
       "    </tr>\n",
       "    <tr>\n",
       "      <th>1</th>\n",
       "      <td>Solid game, but too many bugs.</td>\n",
       "      <td>solid game many bugs</td>\n",
       "    </tr>\n",
       "    <tr>\n",
       "      <th>2</th>\n",
       "      <td>Great game, but the graphics could be better.</td>\n",
       "      <td>great game graphics could better</td>\n",
       "    </tr>\n",
       "    <tr>\n",
       "      <th>3</th>\n",
       "      <td>Solid game, but the graphics could be better.</td>\n",
       "      <td>solid game graphics could better</td>\n",
       "    </tr>\n",
       "    <tr>\n",
       "      <th>4</th>\n",
       "      <td>Great game, but too many bugs.</td>\n",
       "      <td>great game many bugs</td>\n",
       "    </tr>\n",
       "  </tbody>\n",
       "</table>\n",
       "</div>"
      ],
      "text/plain": [
       "                                user_review_text  \\\n",
       "0                 Solid game, but too many bugs.   \n",
       "1                 Solid game, but too many bugs.   \n",
       "2  Great game, but the graphics could be better.   \n",
       "3  Solid game, but the graphics could be better.   \n",
       "4                 Great game, but too many bugs.   \n",
       "\n",
       "                     review_cleaned  \n",
       "0              solid game many bugs  \n",
       "1              solid game many bugs  \n",
       "2  great game graphics could better  \n",
       "3  solid game graphics could better  \n",
       "4              great game many bugs  "
      ]
     },
     "execution_count": 7,
     "metadata": {},
     "output_type": "execute_result"
    }
   ],
   "source": [
    "df[['user_review_text', 'review_cleaned']].head()"
   ]
  },
  {
   "cell_type": "markdown",
   "id": "5e36376d",
   "metadata": {},
   "source": [
    "## Step 2: TF-IDF Vectorization"
   ]
  },
  {
   "cell_type": "code",
   "execution_count": 8,
   "id": "5ecd367a",
   "metadata": {},
   "outputs": [],
   "source": [
    "# Use max_df/min_df to eliminate overly common/rare terms\n",
    "tfidf = TfidfVectorizer(max_features=1000, stop_words='english')\n",
    "\n",
    "# Fit on cleaned text and transform\n",
    "tfidf_matrix = tfidf.fit_transform(df['review_cleaned'])\n",
    "\n",
    "# convert to DataFrame\n",
    "tfidf_df = pd.DataFrame(tfidf_matrix.toarray(), columns=tfidf.get_feature_names_out())"
   ]
  },
  {
   "cell_type": "code",
   "execution_count": 9,
   "id": "f8dbbf8e",
   "metadata": {},
   "outputs": [],
   "source": [
    "# Save game index if needed\n",
    "tfidf_df['game_title'] = df['game_title'].values\n",
    "tfidf_df.set_index('game_title', inplace=True)"
   ]
  },
  {
   "cell_type": "code",
   "execution_count": 10,
   "id": "10d52b3c",
   "metadata": {},
   "outputs": [
    {
     "name": "stdout",
     "output_type": "stream",
     "text": [
      "🔠 Top 15 most important words across all reviews:\n",
      "            term         score\n",
      "4           game  13285.987512\n",
      "0        amazing  12889.007573\n",
      "2           bugs  10421.693617\n",
      "1         better   8732.296397\n",
      "6       graphics   8732.296397\n",
      "5       gameplay   8728.329397\n",
      "3  disappointing   7831.273147\n",
      "7          great   7821.665762\n",
      "8          solid   7813.900531\n"
     ]
    }
   ],
   "source": [
    "# Sum TF-IDF scores per word across all documents\n",
    "tfidf_sum = tfidf_matrix.sum(axis=0).A1\n",
    "terms = tfidf.get_feature_names_out()\n",
    "tfidf_scores = pd.DataFrame({'term': terms, 'score': tfidf_sum})\n",
    "top_terms = tfidf_scores.sort_values(by='score', ascending=False).head(15)\n",
    "\n",
    "# Display top 15 words\n",
    "print(\"🔠 Top 15 most important words across all reviews:\")\n",
    "print(top_terms)\n"
   ]
  },
  {
   "cell_type": "code",
   "execution_count": 11,
   "id": "7a58d339",
   "metadata": {},
   "outputs": [],
   "source": [
    "# Save\n",
    "df.to_csv(os.path.join(PATH, \"text_clean.csv\"), index=False)"
   ]
  }
 ],
 "metadata": {
  "kernelspec": {
   "display_name": "reco-proj",
   "language": "python",
   "name": "python3"
  },
  "language_info": {
   "codemirror_mode": {
    "name": "ipython",
    "version": 3
   },
   "file_extension": ".py",
   "mimetype": "text/x-python",
   "name": "python",
   "nbconvert_exporter": "python",
   "pygments_lexer": "ipython3",
   "version": "3.10.18"
  }
 },
 "nbformat": 4,
 "nbformat_minor": 5
}
